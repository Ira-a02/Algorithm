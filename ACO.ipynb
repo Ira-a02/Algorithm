{
  "nbformat": 4,
  "nbformat_minor": 0,
  "metadata": {
    "colab": {
      "provenance": [],
      "authorship_tag": "ABX9TyNDvl/Yorcf/2zRbNFsHFfZ",
      "include_colab_link": true
    },
    "kernelspec": {
      "name": "python3",
      "display_name": "Python 3"
    },
    "language_info": {
      "name": "python"
    }
  },
  "cells": [
    {
      "cell_type": "markdown",
      "metadata": {
        "id": "view-in-github",
        "colab_type": "text"
      },
      "source": [
        "<a href=\"https://colab.research.google.com/github/Ira-a02/Algorithm/blob/main/ACO.ipynb\" target=\"_parent\"><img src=\"https://colab.research.google.com/assets/colab-badge.svg\" alt=\"Open In Colab\"/></a>"
      ]
    },
    {
      "cell_type": "code",
      "execution_count": 35,
      "metadata": {
        "id": "u6Ffq37X2Jgq"
      },
      "outputs": [],
      "source": [
        "import numpy as np\n",
        "import random"
      ]
    },
    {
      "cell_type": "code",
      "source": [
        "def get_eta(task_times):\n",
        "    return 1 / np.array(task_times)"
      ],
      "metadata": {
        "id": "8RO2kLjX2Wnb"
      },
      "execution_count": 36,
      "outputs": []
    },
    {
      "cell_type": "code",
      "source": [
        "def calculate_probabilities(pheromones, eta, alpha, beta):\n",
        "    probabilities = (pheromones ** alpha) * (eta ** beta)\n",
        "    probabilities_sum = probabilities.sum()\n",
        "\n",
        "    if probabilities_sum > 0:\n",
        "        return probabilities / probabilities_sum\n",
        "    else:\n",
        "        return np.ones_like(probabilities)"
      ],
      "metadata": {
        "id": "C1GgKNN02ZNS"
      },
      "execution_count": 37,
      "outputs": []
    },
    {
      "cell_type": "code",
      "source": [
        "def update_pheromones(pheromones, solutions, delays, rho):\n",
        "    pheromones = (1 - rho)*pheromones\n",
        "    for solution, delay in zip(solutions, delays):\n",
        "        for task in solution:\n",
        "            pheromones[task] = pheromones[task] + 1 / delay\n",
        "    return pheromones"
      ],
      "metadata": {
        "id": "9ZL8kXXw4Jp2"
      },
      "execution_count": 38,
      "outputs": []
    },
    {
      "cell_type": "code",
      "source": [
        "def get_solution(num_tasks, pheromones, eta, alpha, beta):\n",
        "    visited = np.zeros(num_tasks, dtype=bool)\n",
        "    solution = []\n",
        "\n",
        "    for i in range(num_tasks):\n",
        "        unvisited_indices = np.where(~visited)[0]\n",
        "        unvisited_eta = eta[unvisited_indices]\n",
        "        unvisited_pheromones = pheromones[unvisited_indices]\n",
        "        probabilities = calculate_probabilities(unvisited_pheromones, unvisited_eta, alpha, beta)\n",
        "\n",
        "\n",
        "        next_task_index = np.random.choice(unvisited_indices, p=probabilities)\n",
        "        solution.append(next_task_index)\n",
        "        visited[next_task_index] = True\n",
        "\n",
        "    return solution"
      ],
      "metadata": {
        "id": "ZcYHJXIG2592"
      },
      "execution_count": 39,
      "outputs": []
    },
    {
      "cell_type": "code",
      "source": [
        "def ACO(task_times, deadlines, ants, iter, alpha, beta, rho):\n",
        "    num_tasks = len(task_times)\n",
        "    pheromones = np.ones(num_tasks)\n",
        "    best_solution = None\n",
        "    best_delay = float('inf')\n",
        "    eta = get_eta(task_times)\n",
        "\n",
        "    for i in range(iter):\n",
        "        solutions = []\n",
        "        delays = []\n",
        "\n",
        "        for ant in range(ants):\n",
        "            solution = get_solution(num_tasks, pheromones, eta, alpha, beta)\n",
        "            completion_times = np.zeros(num_tasks)\n",
        "            total_delay = 0\n",
        "\n",
        "            for i, task in enumerate(solution):\n",
        "                if i == 0:\n",
        "                    completion_times[task] = task_times[task]\n",
        "                else:\n",
        "                    completion_times[task] = completion_times[solution[i-1]] + task_times[task]\n",
        "\n",
        "                total_delay += max(0, completion_times[task] - deadlines[task])\n",
        "\n",
        "            solutions.append(solution)\n",
        "            delays.append(total_delay)\n",
        "\n",
        "            if total_delay <= best_delay:\n",
        "                best_delay = total_delay\n",
        "                best_solution = solution\n",
        "\n",
        "        pheromones = update_pheromones(pheromones, solutions, delays, rho)\n",
        "\n",
        "    return best_solution, best_delay"
      ],
      "metadata": {
        "id": "2W5fsvC84SuA"
      },
      "execution_count": 41,
      "outputs": []
    },
    {
      "cell_type": "code",
      "source": [
        "n = 5  # количество задач\n",
        "ants=10\n",
        "iter=200\n",
        "alpha=1.0\n",
        "beta=4.0\n",
        "rho=0.4\n",
        "#task_times = np.array([3, 2, 5, 1, 4])\n",
        "#deadlines = np.array([5, 6, 7, 3, 8])\n",
        "task_times = np.random.randint(1, 10, size=n)\n",
        "deadlines = np.random.randint(1, 20, size=n)\n",
        "\n",
        "best_solution, best_delay = ACO(task_times, deadlines, ants, iter, alpha, beta, rho)\n",
        "\n",
        "print(\"Лучшее решение:\", best_solution)\n",
        "print(\"Суммарное запаздывание:\", best_delay)\n",
        "print(\"Время выполнения задач:\", task_times)\n",
        "print(\"Дедлайны задач:\", deadlines)"
      ],
      "metadata": {
        "colab": {
          "base_uri": "https://localhost:8080/"
        },
        "id": "mSIAEt0O4W4l",
        "outputId": "55c26df9-15e6-4209-c10d-c593e5281ada"
      },
      "execution_count": 43,
      "outputs": [
        {
          "output_type": "stream",
          "name": "stdout",
          "text": [
            "Лучшее решение: [np.int64(0), np.int64(4), np.int64(2), np.int64(3), np.int64(1)]\n",
            "Суммарное запаздывание: 6.0\n",
            "Время выполнения задач: [1 6 2 5 9]\n",
            "Дедлайны задач: [10 17 19 17 10]\n"
          ]
        }
      ]
    }
  ]
}