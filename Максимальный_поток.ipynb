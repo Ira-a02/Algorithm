{
  "nbformat": 4,
  "nbformat_minor": 0,
  "metadata": {
    "colab": {
      "provenance": [],
      "authorship_tag": "ABX9TyPe1y4JkdaqRzonMCYqrivP",
      "include_colab_link": true
    },
    "kernelspec": {
      "name": "python3",
      "display_name": "Python 3"
    },
    "language_info": {
      "name": "python"
    }
  },
  "cells": [
    {
      "cell_type": "markdown",
      "metadata": {
        "id": "view-in-github",
        "colab_type": "text"
      },
      "source": [
        "<a href=\"https://colab.research.google.com/github/Ira-a02/Algorithm/blob/main/%D0%9C%D0%B0%D0%BA%D1%81%D0%B8%D0%BC%D0%B0%D0%BB%D1%8C%D0%BD%D1%8B%D0%B9_%D0%BF%D0%BE%D1%82%D0%BE%D0%BA.ipynb\" target=\"_parent\"><img src=\"https://colab.research.google.com/assets/colab-badge.svg\" alt=\"Open In Colab\"/></a>"
      ]
    },
    {
      "cell_type": "code",
      "execution_count": 33,
      "metadata": {
        "id": "NZsAtCDi1Z9e"
      },
      "outputs": [],
      "source": [
        "from collections import deque"
      ]
    },
    {
      "cell_type": "code",
      "source": [
        "def add_edge(graph, u, v, capacity):\n",
        "    if u not in graph:\n",
        "        graph[u] = {}\n",
        "    graph[u][v] = capacity\n",
        "    if v not in graph:\n",
        "        graph[v] = {}\n",
        "    graph[v][u] = 0  # Обратное ребро с нулевым capacity\n",
        "    # {\n",
        "    # 0: {2: 3},  ребро от источника (0) к работе (2) с емкостью 3\n",
        "    # 2: {1: 2},  ребро от работы (2) к стоку (1) с емкостью 2\n",
        "    # 1: {},      сток не имеет исходящих ребер\n",
        "    # }"
      ],
      "metadata": {
        "id": "E7xP7fbX9Zjc"
      },
      "execution_count": 34,
      "outputs": []
    },
    {
      "cell_type": "code",
      "source": [
        "def find_in_width(graph, source, sink, parent):\n",
        "    visited = set()\n",
        "    queue = deque([source])\n",
        "    visited.add(source)\n",
        "\n",
        "    while queue:\n",
        "        u = queue.popleft()\n",
        "        for v in graph.get(u, {}):\n",
        "            if v not in visited and graph[u][v] > 0:\n",
        "                visited.add(v)\n",
        "                parent[v] = u\n",
        "                if v == sink:\n",
        "                    return True\n",
        "                queue.append(v)\n",
        "\n",
        "    return False"
      ],
      "metadata": {
        "id": "Mlc8RuFL1w_w"
      },
      "execution_count": 35,
      "outputs": []
    },
    {
      "cell_type": "code",
      "source": [
        "def ford_falkerson(graph, source, sink):\n",
        "    parent = {}\n",
        "    max_flow = 0\n",
        "\n",
        "    while find_in_width(graph, source, sink, parent):\n",
        "        path_flow = float('Inf')\n",
        "        s = sink\n",
        "\n",
        "        while s != source:\n",
        "            path_flow = min(path_flow, graph[parent[s]][s])\n",
        "            s = parent[s]\n",
        "\n",
        "        v = sink\n",
        "        while v != source:\n",
        "            u = parent[v]\n",
        "            graph[u][v] -= path_flow\n",
        "            graph[v][u] += path_flow\n",
        "            v = parent[v]\n",
        "\n",
        "        max_flow += path_flow\n",
        "\n",
        "    return max_flow"
      ],
      "metadata": {
        "id": "WIIHSfwC2hdR"
      },
      "execution_count": 36,
      "outputs": []
    },
    {
      "cell_type": "code",
      "source": [
        "\n",
        "def get_schedule(jobs, m, L):\n",
        "    graph = {}\n",
        "    source = 0\n",
        "    sink = 1\n",
        "\n",
        "    unique_time_points = set()\n",
        "    for release, deadline, task_time in jobs:\n",
        "        unique_time_points.add(release)\n",
        "        unique_time_points.add(deadline)\n",
        "    time_points = sorted(unique_time_points)\n",
        "\n",
        "    intervals = []\n",
        "    for i in range(len(time_points) - 1):\n",
        "        intervals.append((time_points[i], time_points[i + 1]))\n",
        "\n",
        "    for i, (release, deadline, task_time) in enumerate(jobs):\n",
        "        add_edge(graph, source, 2 + i, task_time)  # Ребро от источника к работе с емкостью времени обработки\n",
        "\n",
        "    for j, (start_time, end_time) in enumerate(intervals):\n",
        "        add_edge(graph, 2 + len(jobs) + j, sink, m * (end_time - start_time))  # Ребро от интервала к стоку\n",
        "\n",
        "    for i, (release, deadline, task_time) in enumerate(jobs):\n",
        "        for j, (start_time, end_time) in enumerate(intervals):\n",
        "            if release <= start_time and end_time <= deadline and start_time <= release + L :\n",
        "                add_edge(graph, 2 + i, 2 + len(jobs) + j, end_time - start_time)  # Ребро от работ к интервалам с емкостью времени интервала\n",
        "\n",
        "    flow_value = ford_falkerson(graph, source, sink)\n",
        "    total_tasks_time = sum(map(lambda job: job[2], jobs))\n",
        "    return flow_value == total_tasks_time"
      ],
      "metadata": {
        "id": "yK2uE_YV1lSd"
      },
      "execution_count": 68,
      "outputs": []
    },
    {
      "cell_type": "code",
      "source": [
        "m = 2\n",
        "L = 1\n",
        "\n",
        "jobs = [(0, 5, 2), (1, 6, 1), (2, 5, 3)]# да\n",
        "#jobs = [(0, 5, 2), (1, 6, 1), (2, 4, 3)]# нет\n",
        "if get_schedule(jobs, m, L):\n",
        "    print(\"Да, можно построить расписание.\")\n",
        "else:\n",
        "    print(\"Нет, нельзя построить расписание.\")"
      ],
      "metadata": {
        "colab": {
          "base_uri": "https://localhost:8080/"
        },
        "id": "iPec7w414AJz",
        "outputId": "62ab5a4a-0fa8-4aa4-ee3a-45e531b74ae3"
      },
      "execution_count": 70,
      "outputs": [
        {
          "output_type": "stream",
          "name": "stdout",
          "text": [
            "Нет, нельзя построить расписание.\n"
          ]
        }
      ]
    },
    {
      "cell_type": "code",
      "source": [
        "#jobs = [(0, 5, 2),(1, 6, 1),(2, 4, 3),(3, 7, 2),(4, 8, 1),(5, 3, 4),(6, 9, 2),(7, 10, 3),(8, 11, 1),(9, 12, 2)]#с запаздыванием нет\n",
        "#jobs = [(0, 5, 2),(1, 6, 1),(3, 7, 2),(4, 8, 1),(6, 9, 2),(8, 11, 1),(9, 12, 2)] # да"
      ],
      "metadata": {
        "id": "uEhvLY9l4JiM"
      },
      "execution_count": 29,
      "outputs": []
    },
    {
      "cell_type": "code",
      "source": [],
      "metadata": {
        "id": "q7USrRWI9F7s"
      },
      "execution_count": 41,
      "outputs": []
    },
    {
      "cell_type": "code",
      "source": [],
      "metadata": {
        "id": "nN35HKeFBclx"
      },
      "execution_count": null,
      "outputs": []
    }
  ]
}