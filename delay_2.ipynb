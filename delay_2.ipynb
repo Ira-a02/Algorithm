{
  "nbformat": 4,
  "nbformat_minor": 0,
  "metadata": {
    "colab": {
      "provenance": [],
      "authorship_tag": "ABX9TyNtK+ULEIVs0hFu3iBQITTl",
      "include_colab_link": true
    },
    "kernelspec": {
      "name": "python3",
      "display_name": "Python 3"
    },
    "language_info": {
      "name": "python"
    }
  },
  "cells": [
    {
      "cell_type": "markdown",
      "metadata": {
        "id": "view-in-github",
        "colab_type": "text"
      },
      "source": [
        "<a href=\"https://colab.research.google.com/github/Ira-a02/Algorithm/blob/main/delay_2.ipynb\" target=\"_parent\"><img src=\"https://colab.research.google.com/assets/colab-badge.svg\" alt=\"Open In Colab\"/></a>"
      ]
    },
    {
      "cell_type": "code",
      "execution_count": null,
      "metadata": {
        "id": "VF6kuawcti3u"
      },
      "outputs": [],
      "source": [
        "import numpy as np\n",
        "\n",
        "task_times = np.array([121, 79, 147, 83, 130])\n",
        "deadlines = np.array([260, 266, 266, 336, 337])\n",
        "\n",
        "indices = np.argsort(task_times)[::-1]\n",
        "task_times_ = task_times[indices]\n",
        "deadlines_ = deadlines[indices]"
      ]
    },
    {
      "cell_type": "code",
      "source": [
        "def get_j_star(task_times, deadlines):\n",
        "    max_task_time = np.max(task_times)\n",
        "    max_task_time_indices = np.where(task_times == max_task_time)[0]\n",
        "\n",
        "    if len(max_task_time_indices) > 1:\n",
        "        j_star = max_task_time_indices[np.argmax(deadlines[max_task_time_indices])]\n",
        "    else:\n",
        "        j_star = max_task_time_indices[0]\n",
        "\n",
        "    return j_star"
      ],
      "metadata": {
        "id": "KM0_CNJXOeOZ"
      },
      "execution_count": null,
      "outputs": []
    },
    {
      "cell_type": "code",
      "source": [
        "def calculate_time(time, task_times):\n",
        "    for task_time in task_times:\n",
        "       time += task_time\n",
        "\n",
        "    return time"
      ],
      "metadata": {
        "id": "8NE2rb0TOeTt"
      },
      "execution_count": null,
      "outputs": []
    },
    {
      "cell_type": "code",
      "source": [
        "def calculate_delay(time, task_times, deadlines):\n",
        "    total_delay = 0\n",
        "    current_time = time\n",
        "\n",
        "    for i in range(len(task_times)):\n",
        "        current_time += task_times[i]\n",
        "        delay = current_time - deadlines[i]\n",
        "        total_delay += max(0, delay)\n",
        "\n",
        "    return total_delay"
      ],
      "metadata": {
        "id": "WnbKc17UOkLo"
      },
      "execution_count": null,
      "outputs": []
    },
    {
      "cell_type": "code",
      "source": [
        "def get_schedule(time, task_times, deadlines):\n",
        "    N = len(task_times)\n",
        "    if N == 0:\n",
        "        return [], []\n",
        "    elif N == 1:\n",
        "        return task_times, deadlines[:1]\n",
        "    best_delay = float('inf')\n",
        "    best_schedule = task_times\n",
        "    j_star = get_j_star(task_times, deadlines)\n",
        "\n",
        "    for j in range(j_star, N):\n",
        "        first_part_indices = list(range(N))\n",
        "        first_part_indices.remove(j_star)\n",
        "        first_part_indices = first_part_indices[:j]\n",
        "\n",
        "        first_task_times = task_times[first_part_indices]\n",
        "        first_deadlines = deadlines[first_part_indices]\n",
        "\n",
        "        schedule_first, first_deadlines = get_schedule(time, first_task_times, first_deadlines)\n",
        "\n",
        "        second_part_indices = list(range(N))\n",
        "        second_part_indices.remove(j_star)\n",
        "        second_part_indices = second_part_indices[j:]\n",
        "\n",
        "        time_end_first_part = calculate_time(time, np.concatenate((first_task_times, [task_times[j_star]]), axis=0))\n",
        "        schedule_second, second_deadlines = get_schedule(time_end_first_part, task_times[second_part_indices], deadlines[second_part_indices])\n",
        "\n",
        "        full_schedule = np.concatenate((schedule_first, [task_times[j_star]], schedule_second), axis=0)\n",
        "        full_deadlines = np.concatenate((first_deadlines, [deadlines[j_star]], second_deadlines))\n",
        "\n",
        "        delay = calculate_delay(time, full_schedule, full_deadlines)\n",
        "\n",
        "        if best_delay > delay:\n",
        "            best_delay = delay\n",
        "            best_schedule = full_schedule\n",
        "            best_deadlines = full_deadlines\n",
        "\n",
        "    return best_schedule, best_deadlines\n"
      ],
      "metadata": {
        "id": "6CeZ8-SROVtZ"
      },
      "execution_count": null,
      "outputs": []
    },
    {
      "cell_type": "code",
      "source": [
        "best_schedule, best_deadlines = get_schedule(0, task_times_, deadlines_)\n",
        "delay = calculate_delay(0, best_schedule, best_deadlines)\n",
        "\n",
        "\n",
        "print(\"Оптимальное расписание:\", best_schedule)\n",
        "print(\"Дедлайны оптимального расписания:\", best_deadlines)\n",
        "print(\"Суммарное запаздывание:\", delay)"
      ],
      "metadata": {
        "colab": {
          "base_uri": "https://localhost:8080/"
        },
        "id": "5nllyur6OV6z",
        "outputId": "b8b33224-b366-4614-c78f-417e354734c5"
      },
      "execution_count": null,
      "outputs": [
        {
          "output_type": "stream",
          "name": "stdout",
          "text": [
            "Оптимальное расписание: [121.  79.  83. 130. 147.]\n",
            "Дедлайны оптимального расписания: [260. 266. 336. 337. 266.]\n",
            "Суммарное запаздывание: 370.0\n"
          ]
        }
      ]
    }
  ]
}